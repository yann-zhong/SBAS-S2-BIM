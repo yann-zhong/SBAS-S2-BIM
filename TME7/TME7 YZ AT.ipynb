{
 "cells": [
  {
   "cell_type": "markdown",
   "metadata": {},
   "source": [
    "<h1><b>Statistique en Bioinformatique : </b> TME7</h1>\n",
    "<br>\n",
    "L’objectif de ce TME est: \n",
    "<br>\n",
    "<ul>\n",
    "<li> Construire un modèle d'une famille proteique avec HMM profil. Ce modèle facilite la reconnaissance des membres de la famille (temps de calcul, calibration du seuil de significativité), en particulier pour les protéines les plus distantes (point de vue évolutif). </li> \n",
    "</ul>\n",
    "<br>\n",
    "<div class=\"alert alert-warning\" role=\"alert\" style=\"margin: 10px\">\n",
    "<p>**Soumission**</p>\n",
    "<ul>\n",
    "<li>Renomer le fichier TME8.ipynb pour NomEtudiant1_NomEtudiant2_TME8.ipynb </li>\n",
    "<li>Envoyer par email à edoardo.sarti@upmc.fr, l’objet du email sera [SBAS-2019] TME8</li>\n",
    "</ul>\n",
    "</div>\n"
   ]
  },
  {
   "cell_type": "markdown",
   "metadata": {},
   "source": [
    "Nom etudiant 1 :\n",
    "Yann Zhong\n",
    "\n",
    "Nom etudiant 2 :\n",
    "Alexis Trang"
   ]
  },
  {
   "cell_type": "markdown",
   "metadata": {},
   "source": [
    "<h3> Installer HMMer</h3>\n",
    "Nous allons travailler avec deux versions du logiciel  HMMer: 2.3.2 et 3. Installez les deux versions dans repertoires differents. Tout d'abord, nous allons considerer la version 2.3.2<br><br>\n",
    "\n",
    "<h4>-Installer la version 2.3.2</h4><br>\n",
    "Télécharger HMMer <a href=\"http://eddylab.org/software/hmmer/2.3/hmmer-2.3.tar.gz\">version 2.3.2</a> <br>\n",
    "Lisez les instructions et installez-le dans votre espace personnel. <br><br>\n",
    "\n",
    "<font face=\"monospace\">tar -xzf hmmer-2.3.tar.gz</font><br>\n",
    "<font face=\"monospace\">cd hmmer-2.3</font><br>\n",
    "<font face=\"monospace\">./configure --prefix=/home/yourUser/yourDirectory/hmmer-2.3</font><br>\n",
    "<font face=\"monospace\">make</font><br>\n",
    "\n",
    "<font color=\"red\"> Remplacez yourUser/yourDirectory par votre coordonnée personnelle.</font>\n",
    "\n",
    "<h4>-Dans le terminal modifier le fichier .bashrc</h4> \n",
    "\n",
    "<font face=\"monospace\">cd \\$HOME </font><br>\n",
    "<font face=\"monospace\">gedit .bashrc </font><br>\n",
    "Ajouter la ligne suivante à votre fichier <font face=\"monospace\">.bashrc</font><br>\n",
    "<font face=\"monospace\">export PATH=/home/yourUser/yourDirectory/hmmer-2.3/src:${PATH}</font><br>\n",
    "\n",
    "<font color=\"red\"> Remplacez <font face=\"monospace\">yourUser/yourDirectory</font> par votre coordonnée personnelle.</font><br>\n",
    "Sauvergardez le fichier et taper dans le terminal <br>\n",
    "\n",
    "<font face=\"monospace\">source .bashrc </font><br>\n",
    "\n",
    "\n"
   ]
  },
  {
   "cell_type": "markdown",
   "metadata": {},
   "source": [
    "<b>Exercice 1 </b>: <u>Zinc finger Pfam domain</u> <br>\n",
    "<b>1.1</b>: Construire le modèle HMMer pour le domaine Pfam Zinc finger, numéro d'accès PF00096. Pour cela, téléchargez l'alignement seed au format Stockholm depuis le site web de <a href=\"http://pfam.xfam.org/family/PF00096#tabview=tab3\">Pfam</a>. Construire le modèle HMMer avec les paramètres par défaut, enregistrer avec le nom PF00096.hmm"
   ]
  },
  {
   "cell_type": "markdown",
   "metadata": {},
   "source": [
    "<b>1.2</b>: Utilisez le programme HMMeditor pour visualiser le modele PF00096.hmm et répondre aux questions.<br>\n",
    "<b>a)</b>: Combien d'états Match observez-vous?"
   ]
  },
  {
   "cell_type": "markdown",
   "metadata": {},
   "source": [
    "<font color=\"blue\">\n",
    "Reponse: On observe 26 états matchs.\n",
    "</font>"
   ]
  },
  {
   "cell_type": "markdown",
   "metadata": {},
   "source": [
    "<b>b)</b>: Pourquoi les états M3, M8, M12, M18, M21 et M26 ont une bordure en gras?"
   ]
  },
  {
   "cell_type": "markdown",
   "metadata": {},
   "source": [
    "<font color=\"blue\">\n",
    "Reponse: Car la probabilité de transition vers le prochain état match (M4, M9, M13, M22 et END) est de 1 pour tous ces états match. (même si elle est pas exactement 1, car on peut considérer que le rajout d'un pseudo count fait que les probas de transition vers les insert/deletions sont pas nulles)\n",
    "</font> \n",
    "\n"
   ]
  },
  {
   "cell_type": "markdown",
   "metadata": {},
   "source": [
    "<b>c)</b>: Quelle est la probabilité de transition M5-> I5? "
   ]
  },
  {
   "cell_type": "markdown",
   "metadata": {},
   "source": [
    "<font color=\"blue\">\n",
    "Reponse: 0.0577374030160831\n",
    "</font>"
   ]
  },
  {
   "cell_type": "markdown",
   "metadata": {},
   "source": [
    "<b>d)</b>: Quel est l'acide aminé le plus fréquent dans l'état I5?\n",
    "\n"
   ]
  },
  {
   "cell_type": "markdown",
   "metadata": {},
   "source": [
    "<font color=\"blue\">\n",
    "Reponse: L'acide aminé G, avec un taux d'émission de 0.09.\n",
    "</font>"
   ]
  },
  {
   "cell_type": "markdown",
   "metadata": {},
   "source": [
    "<b>1.3</b>: Télécharger la séquence X6NX52 à <a href=\"http://www.uniprot.org/uniprot/X6NX52\">Uniprot</a>. Utilisez le programme <font face=\"monospace\">hmmsearch</font> pour localiser les domaines  Zinc finger dans la séquence X6NX52. Combien de domaines obtenez-vous? Comparez vos résultats avec les résultats de  <a href=\"http://pfam.xfam.org/protein/X6NX52_RETFI\">Pfam</a>. Avez-vous trouvé les mêmes domaines dans les mêmes positions? Expliquez votre réponse."
   ]
  },
  {
   "cell_type": "markdown",
   "metadata": {},
   "source": [
    "<font color=\"blue\">\n",
    "Reponse: Les deux retournent quatre domaines, mais Pfam indique que seulement deux de ces domaines sont connus (zf-C2H2 et zf-met). Hmmsearch donne exactement le même domaine que Pfam pour le premier (allant de 74 à 97), mais le deuxième est un peu différent (221 - 242 Pfam, 221 - 244 hmmsearch). Les deux derniers domaines, quant à eux, sont très différents. Ceci s'explique probablement par le fait que hmmsearch applique un seuil différent à celui de Pfam.\n",
    "</font>"
   ]
  },
  {
   "cell_type": "raw",
   "metadata": {},
   "source": [
    "RESULTAT DE hmmsearch PF00096.hmm X6NX52.fasta\n",
    "\n",
    "Parsed for domains:\n",
    "Sequence               Domain  seq-f seq-t    hmm-f hmm-t      score  E-value\n",
    "--------               ------- ----- -----    ----- -----      -----  -------\n",
    "tr|X6NX52|X6NX52_RETFI   1/4      74    97 ..     1    26 []    30.8  5.4e-10\n",
    "tr|X6NX52|X6NX52_RETFI   4/4     221   244 ..     1    26 []    23.6    8e-08\n",
    "tr|X6NX52|X6NX52_RETFI   3/4     143   166 ..     1    26 []    21.2  4.2e-07\n",
    "tr|X6NX52|X6NX52_RETFI   2/4     101   125 ..     1    26 []    19.7  1.2e-06\n",
    "\n",
    "Alignments of top-scoring domains:\n",
    "tr|X6NX52|X6NX52_RETFI: domain 1 of 4, from 74 to 97: score 30.8, E = 5.4e-10\n",
    "                CS    EEETSTTTTEEESSHHHHHHHHHCTC   \n",
    "                   *->ykCpfpdCgksFsrksnLkrHlrtvH<-*\n",
    "                      y+C+   C+k+F+ +++ +rH+++vH   \n",
    "  tr|X6NX52|    74    YSCN--LCDKTFRVRGSVTRHQQRVH    97   \n",
    "\n",
    "tr|X6NX52|X6NX52_RETFI: domain 4 of 4, from 221 to 244: score 23.6, E = 8e-08\n",
    "                CS    EEETSTTTTEEESSHHHHHHHHHCTC   \n",
    "                   *->ykCpfpdCgksFsrksnLkrHlrtvH<-*\n",
    "                      + C+   C+ +F++k nL+rHl+t H   \n",
    "  tr|X6NX52|   221    FFCE--LCDSKFANKCNLRRHLKTLH    244  \n",
    "\n",
    "tr|X6NX52|X6NX52_RETFI: domain 3 of 4, from 143 to 166: score 21.2, E = 4.2e-07\n",
    "                CS    EEETSTTTTEEESSHHHHHHHHHCTC   \n",
    "                   *->ykCpfpdCgksFsrksnLkrHlrtvH<-*\n",
    "                       +C+  +C+  F+++s L++H+ t+H   \n",
    "  tr|X6NX52|   143    KECE--ICHGLFVDSSALRKHIDTCH    166  \n",
    "\n",
    "tr|X6NX52|X6NX52_RETFI: domain 2 of 4, from 101 to 125: score 19.7, E = 1.2e-06\n",
    "                CS    EEETSTTTTEEESSHHHHHHHHHCTC   \n",
    "                   *->ykCpfpdCgksFsrksnLkrHlrtvH<-*\n",
    "                      ++C +p+C ++F ++s++ +H+ + H   \n",
    "  tr|X6NX52|   101    FSCLYPGCERKFGSRSDMMNHYPI-H    125  "
   ]
  },
  {
   "cell_type": "markdown",
   "metadata": {},
   "source": [
    "<b>1.4</b>: Enregistrer la séquence du premier domaine, positions 74-97, dans un format fasta avec le nom de fichier dom1.fasta, supprimer les gaps de la séquence avant de l'enregistrer. Chargez le fichier dom1.fasta dans le programme HMMeditor et cliquez sur \"Align Path\". Qu'observez-vous? "
   ]
  },
  {
   "cell_type": "raw",
   "metadata": {},
   "source": [
    ">tr|X6NX52|RWV    74    97\n",
    "YSCNLCDKTFRVRGSVTRHQQRVH "
   ]
  },
  {
   "cell_type": "markdown",
   "metadata": {},
   "source": [
    "<font color=\"blue\">\n",
    "Reponse: On a mit les deux lignes ci-dessus dans dom1.fasta. On observe qu'un \"chemin\" en bleu est montré allant de matchs vers inserts/deletions, qui vraisemblablement va indiquer le chemin le plus probable pour notre séquence en input donnée.\n",
    "</font>"
   ]
  },
  {
   "cell_type": "markdown",
   "metadata": {},
   "source": [
    "<b>1.5</b>: Modifiez le fichier dom1.fasta et ajouter le mot RWV après le mot TFR. Rechargez le fichier dans le programme HMMeditor et clique sur \"Align Path\". Qu'observez vous?"
   ]
  },
  {
   "cell_type": "raw",
   "metadata": {},
   "source": [
    ">tr|X6NX52|RWV    74    97\n",
    "YSCNLCDKTFRRWVVRGSVTRHQQRVH "
   ]
  },
  {
   "cell_type": "markdown",
   "metadata": {},
   "source": [
    "<font color=\"blue\">\n",
    "Reponse: Le chemin est légèrement modifié: au lieu d'aller de M15 à M16 (W à G) on passe par I15 (V V R en insert) pour ensuite continuer notre chemin vers M16. On remarque néanmoins que la probabilité d'aller de M15 à M16 reste de 0.9997416301892784 et que celle d'aller de M15 à I15 est minime.\n",
    "</font>"
   ]
  },
  {
   "cell_type": "markdown",
   "metadata": {},
   "source": [
    "<h4>-Installer la version 3.</h4><br>\n",
    "Télécharger HMMer <a href=\"http://eddylab.org/software/hmmer3/3.1b2/hmmer-3.1b2.tar.gz\">version 3</a> <br>\n",
    "Lisez les instructions et installez-le dans votre espace personnel. <br>\n",
    "\n",
    "<font face=\"monospace\">tar -xzf hmmer-3.1b2.tar.gz</font><br>\n",
    "<font face=\"monospace\">cd hmmer-3.1b2</font><br>\n",
    "<font face=\"monospace\">./configure --prefix=/home/yourUser/yourDirectory/hmmer-3.1b2</font><br>\n",
    "<font face=\"monospace\">make</font><br>\n",
    "\n",
    "<font color=\"red\"> Remplacer yourUser/yourDirectory avec votre donnée personnelle.</font>\n",
    "\n",
    "<h4>-Dans le terminal modifier le fichier .bashrc</h4>\n",
    "\n",
    "<font face=\"monospace\">cd \\$HOME </font><br>\n",
    "<font face=\"monospace\">gedit .bashrc </font><br>\n",
    "Mettre en commentaire le export de hmmer-2.3 (utiliser # au début de la ligne) et ajouter la ligne suivante à votre fichier .bashrc<br>\n",
    "<font face=\"monospace\">export PATH=$PATH:/home/yourUser/yourDirectory/hmmer-3.1b2/src;</font>\n",
    "<font color=\"red\"> Remplacer yourUser/yourDirectory avec votre donnée personnelle.</font>\n",
    "Sauvegarder le fichier .bashrc et dans le terminal taper<br>\n",
    "<font face=\"monospace\">source .bashrc </font><br>"
   ]
  },
  {
   "cell_type": "markdown",
   "metadata": {},
   "source": [
    "<b>Exercice 2 </b>: <u>Ubiquitin domain Pfam domain</u> <br>\n",
    "<b>2.1</b>: Construire le modèle HMMer pour le domaine Ubiquitin Pfam, accession number PF00240. Pour cela, téléchargez l'alignement seed au format Stockholm depuis le site web de  <a href=\"http://pfam.xfam.org/family/PF00240#tabview=tab3\">Pfam</a>. Construire le modèle hmmer avec les paramètres par défaut, enregistrer sous le nom PF00240.hmm. Combien d'états Match observez-vous?\n"
   ]
  },
  {
   "cell_type": "markdown",
   "metadata": {},
   "source": [
    "<font color=\"blue\">\n",
    "Reponse: N.B: il faut d'abord convertir le fichier hmm en version 2 pour pouvoir le visualiser. Ici, on observe 72 états match.\n",
    "</font>"
   ]
  },
  {
   "cell_type": "markdown",
   "metadata": {},
   "source": [
    "<b>2.2</b>:\n",
    "Téléchargez toutes les séquences avec le domaine ubiquitin du site Pfam. Clique sur l'alignement, sur Format an alignment, sélectionnez Full, Format FASTA,  Gaps : No gaps unaligned. Enregistrez le fichier sous le nom PF00240_full.fasta. Combien de séquences observez-vous dans le fichier PF00240_full.fasta?"
   ]
  },
  {
   "cell_type": "code",
   "execution_count": 24,
   "metadata": {
    "scrolled": true
   },
   "outputs": [
    {
     "name": "stdout",
     "output_type": "stream",
     "text": [
      "Number of sequences: 47633\n"
     ]
    }
   ],
   "source": [
    "#Code en python ou en bash pour compter les sequences\n",
    "PF00240 = open(\"PF00240_full.fasta\",\"r\")\n",
    "seq_count = 0\n",
    "\n",
    "for line in PF00240:\n",
    "    if line[0] == '>':\n",
    "        seq_count += 1\n",
    "print(\"Number of sequences:\",seq_count)"
   ]
  },
  {
   "cell_type": "markdown",
   "metadata": {},
   "source": [
    "<font color=\"blue\">\n",
    "Reponse: On observe 47633 séquences en comptant tous les \">\".\n",
    "</font>"
   ]
  },
  {
   "cell_type": "markdown",
   "metadata": {},
   "source": [
    "<b>2.3</b>:\n",
    "Utilisez hmmsearch (default parameters) pour détecter les domaines ubiquitin dans le fichier PF00240_full.fasta. Utilisez l'option --domtblout pour enregistrer un fichier tabulaire, donnez le nom PF00240.domtb, répondre aux questions suivantes:"
   ]
  },
  {
   "cell_type": "raw",
   "metadata": {},
   "source": [
    "Command line: hmmsearch --domtblout PF00240.domtb PF00240.hmm PF00240_full.fasta\n",
    "==> cf the domtb file"
   ]
  },
  {
   "cell_type": "code",
   "execution_count": 7,
   "metadata": {},
   "outputs": [
    {
     "data": {
      "text/plain": [
       "47657"
      ]
     },
     "execution_count": 7,
     "metadata": {},
     "output_type": "execute_result"
    }
   ],
   "source": [
    "#Read the domtblout file\n",
    "def read_domtblout(input_f):\n",
    "    seq_count = 0\n",
    "    target = open(input_f,\"r\")\n",
    "    \n",
    "    for line in target:\n",
    "        if line[0] != \"#\":\n",
    "            seq_count += 1\n",
    "    \n",
    "    return seq_count\n",
    "\n",
    "read_domtblout(\"PF00240.domtb\")"
   ]
  },
  {
   "cell_type": "markdown",
   "metadata": {},
   "source": [
    "<b>a)</b>: Combien de domaines observez-vous dans le fichier PF00240.domtb? Comparez le nombre de domaines détectés avec le nombre attendu (question 2.2)"
   ]
  },
  {
   "cell_type": "markdown",
   "metadata": {},
   "source": [
    "<font color=\"blue\">\n",
    "Reponse: On en observe 47657, comparé à 47633 par rapport à ce qu'on a compté dans le FASTA.\n",
    "</font>"
   ]
  },
  {
   "cell_type": "markdown",
   "metadata": {},
   "source": [
    "<b>b)</b>: Quelle est le c-evaleus et les scores du meilleur et du pire hit?"
   ]
  },
  {
   "cell_type": "code",
   "execution_count": 4,
   "metadata": {},
   "outputs": [],
   "source": [
    "def best_and_worst(file_name):\n",
    "    file=open(file_name,'r')\n",
    "    flag=0\n",
    "    for line in file:\n",
    "        if line[0]!='#':\n",
    "            line=line.strip().split()\n",
    "            if flag==0:\n",
    "                min_score=max_score=float(line[7])\n",
    "                min_c_eval=max_c_eval=float(line[11])\n",
    "                flag=1\n",
    "            if min_score>float(line[7]):\n",
    "                min_score=float(line[7])\n",
    "                min_c_eval=float(line[11])\n",
    "            if max_score<float(line[7]):\n",
    "                max_score=float(line[7])\n",
    "                max_c_eval=float(line[11])\n",
    "    return min_score ,min_c_eval ,max_score ,max_c_eval"
   ]
  },
  {
   "cell_type": "code",
   "execution_count": 5,
   "metadata": {},
   "outputs": [
    {
     "data": {
      "text/plain": [
       "(24.1, 6.3e-05, 120.9, 4e-35)"
      ]
     },
     "execution_count": 5,
     "metadata": {},
     "output_type": "execute_result"
    }
   ],
   "source": [
    "best_and_worst(\"PF00240.domtb\")"
   ]
  },
  {
   "cell_type": "raw",
   "metadata": {},
   "source": [
    "R0KPY3_NOSB1/3-74          -             72 PF00240_seed         -             72   3.7e-35  120.9   0.4   1   1     4e-35     4e-35  120.8   0.4     1    72     1    72     1    72 0.99 -\n",
    "\n",
    "A0A1U7VJ77_NICSY/1-50      -             50 PF00240_seed         -             72     6e-05   24.1   0.0   1   1   6.1e-05   6.1e-05   24.1   0.0    15    50     2    37     1    46 0.87 -"
   ]
  },
  {
   "cell_type": "markdown",
   "metadata": {},
   "source": [
    "<font color=\"blue\">\n",
    "Reponse: en considérant que le meilleur hit est le tout premier et que le pire est le tout dernier, on aura pour meilleur hit R0KPY3_NOSB1/3-74 avec un score de 120.9 et un e-value de 3.7e-35, et le pire hit A0A1U7VJ77_NICSY/1-50 avec un score de 24.1 et un e-value de 6e-05.\n",
    "</font>"
   ]
  },
  {
   "cell_type": "markdown",
   "metadata": {},
   "source": [
    "<b>c)</b>: Exécutez à nouveau hmmsearch et définissez le domain e-value à 1e-5. Combien de domaines observez-vous? Comparez le nombre de domaines détectés avec l'attendu (question 2.2) et obtenu dans la question a. Justifiez votre réponse."
   ]
  },
  {
   "cell_type": "raw",
   "metadata": {
    "collapsed": true
   },
   "source": [
    "Command line: hmmsearch --domtblout PF00240_2.domtb --domE 1e-5 PF00240.hmm PF00240_full.fasta\n",
    "==> cf the domtb file"
   ]
  },
  {
   "cell_type": "code",
   "execution_count": 9,
   "metadata": {},
   "outputs": [
    {
     "data": {
      "text/plain": [
       "47271"
      ]
     },
     "execution_count": 9,
     "metadata": {},
     "output_type": "execute_result"
    }
   ],
   "source": [
    "read_domtblout(\"PF00240_2.domtb\")"
   ]
  },
  {
   "cell_type": "markdown",
   "metadata": {},
   "source": [
    "<font color=\"blue\">\n",
    "Reponse: On observe 47271 domaines, donc le fait de donner un seuil au e-value nous a retourné 386 domaines en moins avec hmmsearch. On garde alors tous les domaines identifiés avec un e-value en dessous de 1e-5. En regardant et en comparant les deux fichiers domtb, on voit que à partir de ligne 47540, les résultats obtenus avec le premier hmmsearch sont exclus (à partir de A0A4D9AK69_SALSN/159-232).\n",
    "</font>"
   ]
  },
  {
   "cell_type": "markdown",
   "metadata": {},
   "source": [
    "<b>d)</b>:\n",
    "Téléchargez le modèle hmm pour le domaine ubiquitin depuis le site de Pfam. Clique sur \"Curation & model\" et sur \"download the raw HMM for this family\". Exécutez à nouveau hmmsearch avec l'option --cut_ga. Comparez le nombre de domaines détectés avec les questions précédentes. Qu'est-ce que cut_ga fait?"
   ]
  },
  {
   "cell_type": "raw",
   "metadata": {},
   "source": [
    "Command line: hmmsearch --domtblout PF00240_3.domtb --cut_ga ubiquitin.hmm PF00240_full.fasta"
   ]
  },
  {
   "cell_type": "code",
   "execution_count": 11,
   "metadata": {},
   "outputs": [
    {
     "data": {
      "text/plain": [
       "47625"
      ]
     },
     "execution_count": 11,
     "metadata": {},
     "output_type": "execute_result"
    }
   ],
   "source": [
    "read_domtblout(\"PF00240_3.domtb\")"
   ]
  },
  {
   "cell_type": "markdown",
   "metadata": {},
   "source": [
    "<font color=\"blue\">\n",
    "Reponse: L'option cut_ga (qui est incompatible avec l'option domE) permet d'utiliser le seuil Pfam GA (gathering threshold score cutoffs). Dans ce cas ci on trouve 47625 domaines, qui est plus que avec le seuil de 1e-5 mais toujours moins que sans option.\n",
    "</font>"
   ]
  },
  {
   "cell_type": "markdown",
   "metadata": {},
   "source": [
    "<b>Exercice 3 </b>: <u>Cooccurrence de domaines</u> <br>\n",
    "Le domaine Ribosomal_S27 (PF01599) est très suivant trouvé avec le domaine de l'ubiquitine?  Allez sur le site Pfam, recherchez le domaine PF01599 et cliquez sur \"Domain Organisation\" recherchez le domaine ubiquitin dans la liste des architectures de domaine. Répondre aux question suivantes:<br>\n",
    "<b>3.1</b>:\n",
    "Si ces domaines coexistent, dans combien de séquences cette architecture de domaines est-elle observée? "
   ]
  },
  {
   "cell_type": "markdown",
   "metadata": {},
   "source": [
    "<font color=\"blue\">\n",
    "Reponse: On observe 1547 séquence avec une architecture Ubiquitine+Ribosomal_S27, de plus on trouve 8 avec une architecture 2*Ubiquitine+Ribosomal_S27.\n",
    "</font>"
   ]
  },
  {
   "cell_type": "markdown",
   "metadata": {},
   "source": [
    "<b>3.2</b>: Vérifions si la séquence W4GKD7 décrite comme protéine ribosomale S27a de l'Ubiquitine-40S a l'architecture du domaine: ubiquitine, Ribosomal_S27. <br>\n",
    "- Téléchargez la séquence de W4GKD7 de <a href=\"http://www.uniprot.org/uniprot/W4GKD7\">Uniprot</a>  et téléchargez le modèle Ribosomal_S27 hmmer à partir du site Web Pfam.\n",
    "- Concattez les modèles ubiquitin.hmm et Ribosomal_S27.hmm, enregistrez le fichier sous Ribosomal_S27_ubiquitin.hmm.\n",
    "- Exécutez hmmsearch avec l'option --cut_ga pour rechercher des domaines dans W4GKD7, utilisez le modèle de fichier Ribosomal_S27_ubiquitin.hmm. Enregistrez la sortie au format tabulaire, utilisez l'option --domtblout pour enregistrer un fichier tabulaire, nommé W4GKD7.domtb\n",
    "- Analyser le fichier W4GKD7.domtb, avez-vous détecté les domaines Ribosomal_S27 et ubiquitin? Quels sont les scores et les e-values?"
   ]
  },
  {
   "cell_type": "raw",
   "metadata": {},
   "source": [
    "Command line: hmmsearch --domtblout W4GKD7.domtb --cut_ga Ribosomal_S27_ubiquitin.hmm W4GKD7.fasta\n",
    "\n",
    "tr|W4GKD7|W4GKD7_9STRA -            155 ubiquitin            PF00240.25    72   2.3e-37  113.0   0.5   1   1   2.3e-37   2.3e-37  113.0   0.5     1    72     3    74     3    74 0.99 Ubiquitin-40S ribosomal protein S27a OS=Aphanomyces astaci OX=112090 GN=H257_07035 PE=3 SV=1\n",
    "tr|W4GKD7|W4GKD7_9STRA -            155 Ribosomal_S27        PF01599.21    44   1.5e-30   91.2   3.3   1   1   3.8e-30   3.8e-30   89.9   3.3     1    44   102   147   102   147 0.98 Ubiquitin-40S ribosomal protein S27a OS=Aphanomyces astaci OX=112090 GN=H257_07035 PE=3 SV=1"
   ]
  },
  {
   "cell_type": "markdown",
   "metadata": {},
   "source": [
    "<font color=\"blue\">\n",
    "Reponse: on a bien détecté les deux domaines. Pour ribosomal S27, on a un score de 91.2 et e-value de 1.5e-30, et pour ubiquitin, on a un score de 113.0 et e-value de 2.3e-37.\n",
    "</font>"
   ]
  },
  {
   "cell_type": "markdown",
   "metadata": {},
   "source": [
    "<b>3.3</b>: Visualisez l'architecture du domaine pour la protéine W4GKD7 en utilisant le programme  <a href=\"http://prosite.expasy.org/cgi-bin/prosite/mydomains/\">myDomains</a>; Remplissez la longueur de la protéine et les données de domaine. Vous pouvez trouver toutes les informations dans le fichier W4GKD7.domtb, choisir la forme et la couleur que vous préférez, inclure l'image dans votre reponse."
   ]
  },
  {
   "cell_type": "markdown",
   "metadata": {},
   "source": [
    "![Reponse](files/architecture_W4GKD7.png)"
   ]
  },
  {
   "cell_type": "markdown",
   "metadata": {},
   "source": [
    "<b>Exercice 4 </b>: <u>Domaines du même clan</u><br>\n",
    "Les familles de Pfam ayant des fonctions similaires sont suivant orgnisés dans un clan, c'est le cas des familles ubiquitin et ubiquitin_2 placé dans le clan CL0072.<br>\n",
    "<b>4.1</b>: Combien de membre exists dans le clans CL0072?"
   ]
  },
  {
   "cell_type": "markdown",
   "metadata": {},
   "source": [
    "<font color=\"blue\">\n",
    "Reponse: En allant au lien à https://pfam.xfam.org/clan/CL0072 on trouve que le clan CL0072 possède 77 membres (et 309820 domaines associés).\n",
    "</font>"
   ]
  },
  {
   "cell_type": "markdown",
   "metadata": {},
   "source": [
    "<b>4.2</b>: Téléchargez le modèle hmm pour le domaine ubiquitin_2 depuis le site de Pfam. Clique sur \"Curation & model\" et sur \"download the raw HMM for this family\". Concatenez les modeles ubiquitin.hmm et ubiquitin_2.hmm and executez hmmsearch avec --cut_ga sur les sequences du fichier Uniprot_ubiquitin.fasta, utilizez l'option --domtblout pour enregistrer un fichier tabulaire. Repondrez aux questions:\n"
   ]
  },
  {
   "cell_type": "raw",
   "metadata": {},
   "source": [
    "Command line: hmmsearch --domtblout ubi_conca.domtb --cut_ga ubi_1_ubi_2.hmm Uniprot_ubiquitin.fasta\n",
    "==> cf the domtb file"
   ]
  },
  {
   "cell_type": "markdown",
   "metadata": {},
   "source": [
    "<b>a)</b>: Combien de sequences ont plus qu'un hit?"
   ]
  },
  {
   "cell_type": "markdown",
   "metadata": {
    "collapsed": true
   },
   "source": [
    "<font color=\"blue\">\n",
    "Reponse: En comptant par rapport aux noms uniques sur le 1e collone, on a 73 séquences, et on note que aucune séquence identifiée n'a qu'une hit.\n",
    "</font>"
   ]
  },
  {
   "cell_type": "markdown",
   "metadata": {},
   "source": [
    "<b>b)</b>: Faite une fonction pour filtrer les meilleurs hits dans les séquences de Uniprot_ubiquitin.fasta. Si une séquence a plus qu'un hit dans de positions chevauchantes vous devez choisir le hit avec le meilleur c-evalue. Le début et fin de chaque hit se trouve dans les colonnes 20 et 21 du fichier de sortie de hmmsearch."
   ]
  },
  {
   "cell_type": "code",
   "execution_count": null,
   "metadata": {
    "collapsed": true
   },
   "outputs": [],
   "source": []
  }
 ],
 "metadata": {
  "kernelspec": {
   "display_name": "Python 3",
   "language": "python",
   "name": "python3"
  },
  "language_info": {
   "codemirror_mode": {
    "name": "ipython",
    "version": 3
   },
   "file_extension": ".py",
   "mimetype": "text/x-python",
   "name": "python",
   "nbconvert_exporter": "python",
   "pygments_lexer": "ipython3",
   "version": "3.8.6"
  }
 },
 "nbformat": 4,
 "nbformat_minor": 2
}
